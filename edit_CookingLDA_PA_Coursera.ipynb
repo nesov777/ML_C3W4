{
 "cells": [
  {
   "cell_type": "markdown",
   "metadata": {},
   "source": [
    "# Programming Assignment: \n",
    "## Готовим LDA по рецептам"
   ]
  },
  {
   "cell_type": "markdown",
   "metadata": {},
   "source": [
    "Как вы уже знаете, в тематическом моделировании делается предположение о том, что для определения тематики порядок слов в документе не важен; об этом гласит гипотеза «мешка слов». Сегодня мы будем работать с несколько нестандартной для тематического моделирования коллекцией, которую можно назвать «мешком ингредиентов», потому что на состоит из рецептов блюд разных кухонь. Тематические модели ищут слова, которые часто вместе встречаются в документах, и составляют из них темы. Мы попробуем применить эту идею к рецептам и найти кулинарные «темы». Эта коллекция хороша тем, что не требует предобработки. Кроме того, эта задача достаточно наглядно иллюстрирует принцип работы тематических моделей.\n",
    "\n",
    "Для выполнения заданий, помимо часто используемых в курсе библиотек, потребуются модули *json* и *gensim*. Первый входит в дистрибутив Anaconda, второй можно поставить командой \n",
    "\n",
    "*pip install gensim*\n",
    "\n",
    "Построение модели занимает некоторое время. На ноутбуке с процессором Intel Core i7 и тактовой частотой 2400 МГц на построение одной модели уходит менее 10 минут."
   ]
  },
  {
   "cell_type": "markdown",
   "metadata": {},
   "source": [
    "### Загрузка данных"
   ]
  },
  {
   "cell_type": "markdown",
   "metadata": {},
   "source": [
    "Коллекция дана в json-формате: для каждого рецепта известны его id, кухня (cuisine) и список ингредиентов, в него входящих. Загрузить данные можно с помощью модуля json (он входит в дистрибутив Anaconda):"
   ]
  },
  {
   "cell_type": "code",
   "execution_count": 1,
   "metadata": {},
   "outputs": [],
   "source": [
    "import json"
   ]
  },
  {
   "cell_type": "code",
   "execution_count": 2,
   "metadata": {},
   "outputs": [],
   "source": [
    "with open(\"recipes.json\") as f:\n",
    "    recipes = json.load(f)"
   ]
  },
  {
   "cell_type": "code",
   "execution_count": 3,
   "metadata": {},
   "outputs": [
    {
     "name": "stdout",
     "output_type": "stream",
     "text": [
      "{'id': 10259, 'cuisine': 'greek', 'ingredients': ['romaine lettuce', 'black olives', 'grape tomatoes', 'garlic', 'pepper', 'purple onion', 'seasoning', 'garbanzo beans', 'feta cheese crumbles']}\n"
     ]
    }
   ],
   "source": [
    "print(recipes[0])"
   ]
  },
  {
   "cell_type": "markdown",
   "metadata": {},
   "source": [
    "### Составление корпуса"
   ]
  },
  {
   "cell_type": "code",
   "execution_count": 4,
   "metadata": {},
   "outputs": [],
   "source": [
    "from gensim import corpora, models\n",
    "import numpy as np"
   ]
  },
  {
   "cell_type": "markdown",
   "metadata": {},
   "source": [
    "Наша коллекция небольшая, и целиком помещается в оперативную память. Gensim может работать с такими данными и не требует их сохранения на диск в специальном формате. Для этого коллекция должна быть представлена в виде списка списков, каждый внутренний список соответствует отдельному документу и состоит из его слов. Пример коллекции из двух документов: \n",
    "\n",
    "[[\"hello\", \"world\"], [\"programming\", \"in\", \"python\"]]\n",
    "\n",
    "Преобразуем наши данные в такой формат, а затем создадим объекты corpus и dictionary, с которыми будет работать модель."
   ]
  },
  {
   "cell_type": "code",
   "execution_count": 5,
   "metadata": {},
   "outputs": [],
   "source": [
    "texts = [recipe[\"ingredients\"] for recipe in recipes]\n",
    "dictionary = corpora.Dictionary(texts)   # составляем словарь\n",
    "corpus = [dictionary.doc2bow(text) for text in texts]  # составляем корпус документов"
   ]
  },
  {
   "cell_type": "code",
   "execution_count": 6,
   "metadata": {},
   "outputs": [
    {
     "name": "stdout",
     "output_type": "stream",
     "text": [
      "['romaine lettuce', 'black olives', 'grape tomatoes', 'garlic', 'pepper', 'purple onion', 'seasoning', 'garbanzo beans', 'feta cheese crumbles']\n",
      "[(0, 1), (1, 1), (2, 1), (3, 1), (4, 1), (5, 1), (6, 1), (7, 1), (8, 1)]\n"
     ]
    }
   ],
   "source": [
    "print(texts[0])\n",
    "print(corpus[0])"
   ]
  },
  {
   "cell_type": "markdown",
   "metadata": {},
   "source": [
    "У объекта dictionary есть полезная переменная dictionary.token2id, позволяющая находить соответствие между ингредиентами и их индексами."
   ]
  },
  {
   "cell_type": "markdown",
   "metadata": {},
   "source": [
    "### Обучение модели\n",
    "Вам может понадобиться [документация](https://radimrehurek.com/gensim/models/ldamodel.html) LDA в gensim."
   ]
  },
  {
   "cell_type": "markdown",
   "metadata": {},
   "source": [
    "__Задание 1.__ Обучите модель LDA с 40 темами, установив количество проходов по коллекции 5 и оставив остальные параметры по умолчанию. \n",
    "\n",
    "\n",
    "Затем вызовите метод модели *show_topics*, указав количество тем 40 и количество токенов 10, и сохраните результат (топы ингредиентов в темах) в отдельную переменную. Если при вызове метода *show_topics* указать параметр *formatted=True*, то топы ингредиентов будет удобно выводить на печать, если *formatted=False*, будет удобно работать со списком программно. Выведите топы на печать, рассмотрите темы, а затем ответьте на вопрос:\n",
    "\n",
    "Сколько раз ингредиенты \"salt\", \"sugar\", \"water\", \"mushrooms\", \"chicken\", \"eggs\" встретились среди топов-10 всех 40 тем? При ответе __не нужно__ учитывать составные ингредиенты, например, \"hot water\".\n",
    "\n",
    "Передайте 6 чисел в функцию save_answers1 и загрузите сгенерированный файл в форму.\n",
    "\n",
    "У gensim нет возможности фиксировать случайное приближение через параметры метода, но библиотека использует numpy для инициализации матриц. Поэтому, по утверждению автора библиотеки, фиксировать случайное приближение нужно командой, которая написана в следующей ячейке. __Перед строкой кода с построением модели обязательно вставляйте указанную строку фиксации random.seed.__"
   ]
  },
  {
   "cell_type": "code",
   "execution_count": 7,
   "metadata": {},
   "outputs": [],
   "source": [
    "np.random.seed(76543)\n",
    "# здесь код для построения модели:\n",
    "lda=models.ldamodel.LdaModel(corpus, id2word=dictionary, num_topics=40, passes=5)\n",
    "\n"
   ]
  },
  {
   "cell_type": "code",
   "execution_count": 24,
   "metadata": {},
   "outputs": [
    {
     "ename": "TypeError",
     "evalue": "'list' object is not callable",
     "output_type": "error",
     "traceback": [
      "\u001b[1;31m---------------------------------------------------------------------------\u001b[0m",
      "\u001b[1;31mTypeError\u001b[0m                                 Traceback (most recent call last)",
      "\u001b[1;32m<ipython-input-24-c94c4afe5919>\u001b[0m in \u001b[0;36m<module>\u001b[1;34m\u001b[0m\n\u001b[0;32m      1\u001b[0m \u001b[0mtokens\u001b[0m\u001b[1;33m=\u001b[0m\u001b[0mlda\u001b[0m\u001b[1;33m.\u001b[0m\u001b[0mshow_topics\u001b[0m\u001b[1;33m(\u001b[0m\u001b[0mnum_topics\u001b[0m\u001b[1;33m=\u001b[0m\u001b[1;36m40\u001b[0m\u001b[1;33m,\u001b[0m \u001b[0mnum_words\u001b[0m\u001b[1;33m=\u001b[0m\u001b[1;36m10\u001b[0m\u001b[1;33m,\u001b[0m\u001b[0mformatted\u001b[0m\u001b[1;33m=\u001b[0m\u001b[1;32mFalse\u001b[0m\u001b[1;33m)\u001b[0m\u001b[1;33m\u001b[0m\u001b[1;33m\u001b[0m\u001b[0m\n\u001b[1;32m----> 2\u001b[1;33m \u001b[0ms\u001b[0m \u001b[1;33m=\u001b[0m \u001b[0mset\u001b[0m\u001b[1;33m(\u001b[0m\u001b[0mtokens\u001b[0m\u001b[1;33m(\u001b[0m\u001b[1;33m)\u001b[0m\u001b[1;33m)\u001b[0m\u001b[1;33m\u001b[0m\u001b[1;33m\u001b[0m\u001b[0m\n\u001b[0m",
      "\u001b[1;31mTypeError\u001b[0m: 'list' object is not callable"
     ]
    }
   ],
   "source": [
    "tokens=lda.show_topics(num_topics=40, num_words=10,formatted=False)\n"
   ]
  },
  {
   "cell_type": "code",
   "execution_count": 25,
   "metadata": {},
   "outputs": [
    {
     "data": {
      "text/plain": [
       "[(0,\n",
       "  [('chopped onion', 0.10311366),\n",
       "   ('garlic cloves', 0.080646195),\n",
       "   ('salt', 0.062229082),\n",
       "   ('fat free less sodium chicken broth', 0.054179046),\n",
       "   ('sliced green onions', 0.047418755),\n",
       "   ('cooking spray', 0.046163637),\n",
       "   ('water', 0.044194996),\n",
       "   ('ground red pepper', 0.043634564),\n",
       "   ('spinach', 0.03761286),\n",
       "   ('black pepper', 0.03004022)]),\n",
       " (1,\n",
       "  [('corn kernels', 0.10135316),\n",
       "   ('diced onions', 0.08620774),\n",
       "   ('tortillas', 0.072176844),\n",
       "   ('vegetable stock', 0.06634357),\n",
       "   ('chopped fresh chives', 0.04981454),\n",
       "   ('sliced black olives', 0.04937448),\n",
       "   ('cream cheese, soften', 0.047916427),\n",
       "   ('lard', 0.043474898),\n",
       "   ('jack cheese', 0.034485172),\n",
       "   ('canned black beans', 0.024306865)]),\n",
       " (2,\n",
       "  [('olive oil', 0.08690712),\n",
       "   ('crushed red pepper', 0.060136847),\n",
       "   ('fresh parsley', 0.055572633),\n",
       "   ('garlic cloves', 0.04188415),\n",
       "   ('grated parmesan cheese', 0.03950395),\n",
       "   ('butter', 0.035745177),\n",
       "   ('cherry tomatoes', 0.03556643),\n",
       "   ('salt', 0.034451816),\n",
       "   ('low salt chicken broth', 0.034154106),\n",
       "   ('fresh rosemary', 0.032164197)]),\n",
       " (3,\n",
       "  [('bacon', 0.07352607),\n",
       "   ('salt', 0.07021438),\n",
       "   ('red pepper flakes', 0.06097944),\n",
       "   ('onions', 0.053939328),\n",
       "   ('garlic', 0.051571403),\n",
       "   ('ground black pepper', 0.048916996),\n",
       "   ('mushrooms', 0.043864287),\n",
       "   ('chicken thighs', 0.042471185),\n",
       "   ('pasta', 0.041532867),\n",
       "   ('olive oil', 0.034414995)]),\n",
       " (4,\n",
       "  [('cooking spray', 0.08918507),\n",
       "   ('salt', 0.06802166),\n",
       "   ('powdered sugar', 0.060219314),\n",
       "   ('large egg whites', 0.059095733),\n",
       "   ('all-purpose flour', 0.054445785),\n",
       "   ('sugar', 0.05147557),\n",
       "   ('large eggs', 0.04922299),\n",
       "   ('cream cheese', 0.04379724),\n",
       "   ('yellow corn meal', 0.0432521),\n",
       "   ('butter', 0.041967362)]),\n",
       " (5,\n",
       "  [('large garlic cloves', 0.09245853),\n",
       "   ('shallots', 0.09178343),\n",
       "   ('dry white wine', 0.075553864),\n",
       "   ('olive oil', 0.056187343),\n",
       "   ('finely chopped onion', 0.04474537),\n",
       "   ('unsalted butter', 0.033634003),\n",
       "   ('salt', 0.033136465),\n",
       "   ('white wine vinegar', 0.031824943),\n",
       "   ('arborio rice', 0.030436827),\n",
       "   ('saffron threads', 0.026528753)]),\n",
       " (6,\n",
       "  [('fresh thyme', 0.0790196),\n",
       "   ('dry red wine', 0.078082256),\n",
       "   ('pork tenderloin', 0.053132042),\n",
       "   ('reduced sodium soy sauce', 0.047372837),\n",
       "   ('cilantro sprigs', 0.046834677),\n",
       "   ('beef broth', 0.04141434),\n",
       "   ('peppercorns', 0.036619905),\n",
       "   ('cremini mushrooms', 0.032468185),\n",
       "   ('rosemary', 0.023212558),\n",
       "   ('daikon', 0.02287488)]),\n",
       " (7,\n",
       "  [('soy sauce', 0.09228006),\n",
       "   ('sesame oil', 0.051594976),\n",
       "   ('scallions', 0.043649428),\n",
       "   ('green onions', 0.042649794),\n",
       "   ('rice vinegar', 0.041133642),\n",
       "   ('sugar', 0.03964557),\n",
       "   ('corn starch', 0.036478885),\n",
       "   ('garlic', 0.03558337),\n",
       "   ('vegetable oil', 0.033946957),\n",
       "   ('fresh ginger', 0.027028728)]),\n",
       " (8,\n",
       "  [('garlic powder', 0.17521726),\n",
       "   ('cayenne pepper', 0.12394762),\n",
       "   ('onion powder', 0.06573627),\n",
       "   ('ground black pepper', 0.046046194),\n",
       "   ('smoked paprika', 0.043618836),\n",
       "   ('black pepper', 0.040537626),\n",
       "   ('pinenuts', 0.040128876),\n",
       "   ('salt', 0.038063087),\n",
       "   ('dried oregano', 0.026020395),\n",
       "   ('fresh spinach', 0.025992505)]),\n",
       " (9,\n",
       "  [('extra-virgin olive oil', 0.11368191),\n",
       "   ('garlic cloves', 0.06722799),\n",
       "   ('fresh lemon juice', 0.061048836),\n",
       "   ('salt', 0.05616533),\n",
       "   ('olive oil', 0.052975837),\n",
       "   ('ground black pepper', 0.052060846),\n",
       "   ('plum tomatoes', 0.04593462),\n",
       "   ('purple onion', 0.042698614),\n",
       "   ('balsamic vinegar', 0.03434879),\n",
       "   ('fresh basil', 0.033555858)]),\n",
       " (10,\n",
       "  [('broccoli florets', 0.06572412),\n",
       "   ('button mushrooms', 0.0499906),\n",
       "   ('crГЁme fraГ®che', 0.048862327),\n",
       "   ('yellow squash', 0.04653142),\n",
       "   ('radishes', 0.045058846),\n",
       "   ('greek style plain yogurt', 0.038917728),\n",
       "   ('pork sausages', 0.038732525),\n",
       "   ('watercress', 0.035329454),\n",
       "   ('quickcooking grits', 0.033023212),\n",
       "   ('ripe olives', 0.031208092)]),\n",
       " (11,\n",
       "  [('lime', 0.13430724),\n",
       "   ('lime juice', 0.11354439),\n",
       "   ('fresh cilantro', 0.056442354),\n",
       "   ('chopped cilantro', 0.036271147),\n",
       "   ('purple onion', 0.035445664),\n",
       "   ('mango', 0.030684948),\n",
       "   ('garlic', 0.03051095),\n",
       "   ('jalapeno chilies', 0.027627453),\n",
       "   ('lime wedges', 0.027531916),\n",
       "   ('thai chile', 0.021642871)]),\n",
       " (12,\n",
       "  [('cheese', 0.09633252),\n",
       "   ('ricotta cheese', 0.09289558),\n",
       "   ('orange juice', 0.087660804),\n",
       "   ('sliced mushrooms', 0.059222616),\n",
       "   ('baby spinach', 0.058252405),\n",
       "   ('vegetable broth', 0.054933477),\n",
       "   ('vegetable oil cooking spray', 0.051898316),\n",
       "   ('frozen chopped spinach', 0.037232175),\n",
       "   ('part-skim mozzarella cheese', 0.03467864),\n",
       "   ('italian sausage', 0.03351737)]),\n",
       " (13,\n",
       "  [('diced tomatoes', 0.097747274),\n",
       "   ('onions', 0.062497918),\n",
       "   ('dried oregano', 0.058619376),\n",
       "   ('tomato sauce', 0.053236753),\n",
       "   ('garlic', 0.04726516),\n",
       "   ('tomato paste', 0.046115592),\n",
       "   ('salt', 0.045639824),\n",
       "   ('olive oil', 0.03854645),\n",
       "   ('crushed tomatoes', 0.033220798),\n",
       "   ('ground beef', 0.029520497)]),\n",
       " (14,\n",
       "  [('tomatoes', 0.12160946),\n",
       "   ('red wine vinegar', 0.08642533),\n",
       "   ('salt', 0.08587368),\n",
       "   ('cucumber', 0.06990061),\n",
       "   ('olive oil', 0.06938623),\n",
       "   ('pepper', 0.051796056),\n",
       "   ('fresh oregano', 0.04477069),\n",
       "   ('purple onion', 0.035132382),\n",
       "   ('lemon juice', 0.03499267),\n",
       "   ('garlic', 0.031939797)]),\n",
       " (15,\n",
       "  [('lemon', 0.20264831),\n",
       "   ('orange', 0.055147175),\n",
       "   ('boiling water', 0.053090643),\n",
       "   ('fine sea salt', 0.049366567),\n",
       "   ('sugar', 0.045548704),\n",
       "   ('cold water', 0.0438333),\n",
       "   ('fennel seeds', 0.033987172),\n",
       "   ('almonds', 0.03172329),\n",
       "   ('water', 0.030960705),\n",
       "   ('mint', 0.02801952)]),\n",
       " (16,\n",
       "  [('chopped cilantro fresh', 0.10238877),\n",
       "   ('fresh lime juice', 0.07594834),\n",
       "   ('jalapeno chilies', 0.068661936),\n",
       "   ('white onion', 0.051069777),\n",
       "   ('salt', 0.045778383),\n",
       "   ('avocado', 0.04239158),\n",
       "   ('ground cumin', 0.037921824),\n",
       "   ('garlic cloves', 0.037221566),\n",
       "   ('cilantro leaves', 0.027483242),\n",
       "   ('vegetable oil', 0.02734298)]),\n",
       " (17,\n",
       "  [('ground ginger', 0.10007296),\n",
       "   ('ground cinnamon', 0.09957978),\n",
       "   ('raisins', 0.08113755),\n",
       "   ('ground cloves', 0.07657321),\n",
       "   ('white wine', 0.070279054),\n",
       "   ('ground allspice', 0.060758054),\n",
       "   ('fresh mushrooms', 0.054722894),\n",
       "   ('lean ground beef', 0.04977212),\n",
       "   ('dried rosemary', 0.03213457),\n",
       "   ('iceberg lettuce', 0.029817794)]),\n",
       " (18,\n",
       "  [('parmesan cheese', 0.116468675),\n",
       "   ('warm water', 0.0712455),\n",
       "   ('salt', 0.06260866),\n",
       "   ('dried basil', 0.057439838),\n",
       "   ('olive oil', 0.052913804),\n",
       "   ('grits', 0.038879965),\n",
       "   ('kale', 0.032345437),\n",
       "   ('plain flour', 0.03090287),\n",
       "   ('water', 0.02782866),\n",
       "   ('dry yeast', 0.026830373)]),\n",
       " (19,\n",
       "  [('unsalted butter', 0.12537543),\n",
       "   ('all-purpose flour', 0.096517004),\n",
       "   ('large eggs', 0.095903106),\n",
       "   ('salt', 0.07544402),\n",
       "   ('sugar', 0.06054681),\n",
       "   ('whole milk', 0.039589804),\n",
       "   ('granulated sugar', 0.037789255),\n",
       "   ('baking powder', 0.033047173),\n",
       "   ('large egg yolks', 0.02612853),\n",
       "   ('buttermilk', 0.02596185)]),\n",
       " (20,\n",
       "  [('flat leaf parsley', 0.117885),\n",
       "   ('freshly ground pepper', 0.10109033),\n",
       "   ('extra-virgin olive oil', 0.055007696),\n",
       "   ('garlic cloves', 0.053749382),\n",
       "   ('large shrimp', 0.044226598),\n",
       "   ('olive oil', 0.044200998),\n",
       "   ('salt', 0.04232638),\n",
       "   ('dry bread crumbs', 0.03276539),\n",
       "   ('ground black pepper', 0.026956217),\n",
       "   ('kosher salt', 0.02392622)]),\n",
       " (21,\n",
       "  [('chicken broth', 0.14707787),\n",
       "   ('green bell pepper', 0.06756741),\n",
       "   ('boneless skinless chicken breast halves', 0.059810445),\n",
       "   ('boneless skinless chicken breasts', 0.055973053),\n",
       "   ('onions', 0.05582604),\n",
       "   ('chicken breasts', 0.04974995),\n",
       "   ('red bell pepper', 0.041821923),\n",
       "   ('pepper', 0.039907508),\n",
       "   ('butter', 0.03988562),\n",
       "   ('salt', 0.03591116)]),\n",
       " (22,\n",
       "  [('grated parmesan cheese', 0.11421094),\n",
       "   ('olive oil', 0.06292142),\n",
       "   ('zucchini', 0.0567842),\n",
       "   ('salt', 0.045298796),\n",
       "   ('garlic', 0.042029634),\n",
       "   ('mozzarella cheese', 0.04073766),\n",
       "   ('shredded mozzarella cheese', 0.037631083),\n",
       "   ('eggplant', 0.036545932),\n",
       "   ('pepper', 0.03522481),\n",
       "   ('eggs', 0.032362428)]),\n",
       " (23,\n",
       "  [('brown sugar', 0.07865595),\n",
       "   ('water', 0.050761092),\n",
       "   ('salt', 0.04969263),\n",
       "   ('soy sauce', 0.047935616),\n",
       "   ('white pepper', 0.0462583),\n",
       "   ('oil', 0.043947335),\n",
       "   ('sugar', 0.040306427),\n",
       "   ('sauce', 0.038470145),\n",
       "   ('ketchup', 0.034563564),\n",
       "   ('garlic', 0.03366223)]),\n",
       " (24,\n",
       "  [('ground cumin', 0.074019656),\n",
       "   ('ground coriander', 0.046917032),\n",
       "   ('salt', 0.046219483),\n",
       "   ('curry powder', 0.03900681),\n",
       "   ('onions', 0.0334953),\n",
       "   ('garlic', 0.02829542),\n",
       "   ('vegetable oil', 0.0279059),\n",
       "   ('garlic cloves', 0.026837468),\n",
       "   ('ground turmeric', 0.026331551),\n",
       "   ('fresh ginger', 0.024415262)]),\n",
       " (25,\n",
       "  [('hot water', 0.08944242),\n",
       "   ('chopped garlic', 0.083120055),\n",
       "   ('peanut oil', 0.06478195),\n",
       "   ('rice wine', 0.058675434),\n",
       "   ('hot red pepper flakes', 0.045833755),\n",
       "   ('corn oil', 0.036508314),\n",
       "   ('fontina cheese', 0.03257742),\n",
       "   ('marsala wine', 0.030499151),\n",
       "   ('seasoning', 0.030230025),\n",
       "   ('garlic chili sauce', 0.029466653)]),\n",
       " (26,\n",
       "  [('mirin', 0.081923425),\n",
       "   ('chickpeas', 0.07194238),\n",
       "   ('red pepper', 0.051663775),\n",
       "   ('mint leaves', 0.049686104),\n",
       "   ('chopped fresh mint', 0.04888372),\n",
       "   ('juice', 0.048175074),\n",
       "   ('sugar', 0.038714666),\n",
       "   ('fresh coriander', 0.03500193),\n",
       "   ('sake', 0.034938008),\n",
       "   ('grated lemon zest', 0.03015045)]),\n",
       " (27,\n",
       "  [('heavy cream', 0.18070647),\n",
       "   ('cheddar cheese', 0.10148695),\n",
       "   ('frozen peas', 0.06875143),\n",
       "   ('grated nutmeg', 0.065773),\n",
       "   ('bananas', 0.039999932),\n",
       "   ('bread', 0.036516905),\n",
       "   ('ice', 0.02587305),\n",
       "   ('adobo sauce', 0.023804815),\n",
       "   ('old bay seasoning', 0.022994252),\n",
       "   ('butter', 0.022932937)]),\n",
       " (28,\n",
       "  [('oil', 0.11530722),\n",
       "   ('salt', 0.087036744),\n",
       "   ('cilantro leaves', 0.05277016),\n",
       "   ('green chilies', 0.051031124),\n",
       "   ('cumin seed', 0.048213378),\n",
       "   ('onions', 0.04650619),\n",
       "   ('ground turmeric', 0.043038793),\n",
       "   ('water', 0.041120425),\n",
       "   ('chili powder', 0.032502744),\n",
       "   ('tomatoes', 0.0290971)]),\n",
       " (29,\n",
       "  [('sour cream', 0.07763441),\n",
       "   ('salsa', 0.04734986),\n",
       "   ('flour tortillas', 0.04674334),\n",
       "   ('chili powder', 0.04555148),\n",
       "   ('corn tortillas', 0.0417005),\n",
       "   ('shredded cheddar cheese', 0.04130787),\n",
       "   ('black beans', 0.03999232),\n",
       "   ('cilantro', 0.035762433),\n",
       "   ('salt', 0.029560726),\n",
       "   ('ground cumin', 0.028126167)]),\n",
       " (30,\n",
       "  [('sugar', 0.09255511),\n",
       "   ('whipping cream', 0.08010243),\n",
       "   ('egg yolks', 0.07596941),\n",
       "   ('egg whites', 0.055281192),\n",
       "   ('vanilla extract', 0.0501434),\n",
       "   ('butter', 0.04954118),\n",
       "   ('half & half', 0.042697117),\n",
       "   ('sweetened condensed milk', 0.036738925),\n",
       "   ('water', 0.034216877),\n",
       "   ('strawberries', 0.030937644)]),\n",
       " (31,\n",
       "  [('shrimp', 0.10018604),\n",
       "   ('medium shrimp', 0.061860856),\n",
       "   ('long-grain rice', 0.04422129),\n",
       "   ('vegetable oil', 0.04337252),\n",
       "   ('green onions', 0.037299026),\n",
       "   ('long grain white rice', 0.034561746),\n",
       "   ('rice noodles', 0.034268707),\n",
       "   ('hot pepper sauce', 0.034045678),\n",
       "   ('cajun seasoning', 0.0314572),\n",
       "   ('scallions', 0.02830775)]),\n",
       " (32,\n",
       "  [('eggs', 0.111757465),\n",
       "   ('milk', 0.10402057),\n",
       "   ('salt', 0.09620958),\n",
       "   ('butter', 0.072812505),\n",
       "   ('all-purpose flour', 0.06788308),\n",
       "   ('flour', 0.041637752),\n",
       "   ('baking powder', 0.04130885),\n",
       "   ('sugar', 0.040556815),\n",
       "   ('white sugar', 0.039855376),\n",
       "   ('water', 0.023009218)]),\n",
       " (33,\n",
       "  [('rice', 0.061758935),\n",
       "   ('coriander', 0.054225087),\n",
       "   ('onions', 0.049103316),\n",
       "   ('salt', 0.047496397),\n",
       "   ('garam masala', 0.04277922),\n",
       "   ('ginger', 0.040217184),\n",
       "   ('tumeric', 0.039941095),\n",
       "   ('cabbage', 0.037554123),\n",
       "   ('garlic', 0.035676826),\n",
       "   ('ghee', 0.033450685)]),\n",
       " (34,\n",
       "  [('cinnamon sticks', 0.091331355),\n",
       "   ('clove', 0.08504508),\n",
       "   ('black peppercorns', 0.07121024),\n",
       "   ('chopped tomatoes', 0.04176713),\n",
       "   ('cream', 0.041580897),\n",
       "   ('garlic paste', 0.03874579),\n",
       "   ('coriander seeds', 0.035041798),\n",
       "   ('yoghurt', 0.03489702),\n",
       "   ('fresh dill', 0.032743216),\n",
       "   ('onions', 0.027497413)]),\n",
       " (35,\n",
       "  [('onions', 0.06652579),\n",
       "   ('bay leaves', 0.051878683),\n",
       "   ('celery', 0.050056454),\n",
       "   ('salt', 0.049028322),\n",
       "   ('carrots', 0.04742445),\n",
       "   ('dried thyme', 0.045229103),\n",
       "   ('bay leaf', 0.045086306),\n",
       "   ('water', 0.041926954),\n",
       "   ('garlic', 0.03311398),\n",
       "   ('ground black pepper', 0.030411934)]),\n",
       " (36,\n",
       "  [('salt', 0.11711095),\n",
       "   ('pepper', 0.097252145),\n",
       "   ('paprika', 0.07139955),\n",
       "   ('onions', 0.06966934),\n",
       "   ('potatoes', 0.055221073),\n",
       "   ('butter', 0.04460932),\n",
       "   ('garlic', 0.03865957),\n",
       "   ('olive oil', 0.036535107),\n",
       "   ('worcestershire sauce', 0.025314111),\n",
       "   ('carrots', 0.024187732)]),\n",
       " (37,\n",
       "  [('sea salt', 0.110366344),\n",
       "   ('coarse salt', 0.06625697),\n",
       "   ('crushed red pepper flakes', 0.057271),\n",
       "   ('extra-virgin olive oil', 0.05037321),\n",
       "   ('celery ribs', 0.044588547),\n",
       "   ('ground black pepper', 0.04444032),\n",
       "   ('ground pepper', 0.04162469),\n",
       "   ('kosher salt', 0.038262088),\n",
       "   ('parmigiano reggiano cheese', 0.033794712),\n",
       "   ('garlic cloves', 0.033685133)]),\n",
       " (38,\n",
       "  [('fish sauce', 0.11727865),\n",
       "   ('coconut milk', 0.05634725),\n",
       "   ('garlic', 0.041700765),\n",
       "   ('red chili peppers', 0.038051907),\n",
       "   ('shallots', 0.03794893),\n",
       "   ('lemongrass', 0.0350255),\n",
       "   ('sugar', 0.02836184),\n",
       "   ('vegetable oil', 0.026057966),\n",
       "   ('boneless chicken skinless thigh', 0.025503721),\n",
       "   ('cooking oil', 0.024677023)]),\n",
       " (39,\n",
       "  [('mayonaise', 0.15260912),\n",
       "   ('dijon mustard', 0.09491556),\n",
       "   ('cider vinegar', 0.06906053),\n",
       "   ('cracked black pepper', 0.06898941),\n",
       "   ('roma tomatoes', 0.046629284),\n",
       "   ('white rice', 0.04342785),\n",
       "   ('lemon wedge', 0.043092277),\n",
       "   ('romaine lettuce', 0.035701934),\n",
       "   ('chicken wings', 0.02412713),\n",
       "   ('green onions', 0.023642963)])]"
      ]
     },
     "execution_count": 25,
     "metadata": {},
     "output_type": "execute_result"
    }
   ],
   "source": [
    "tokens"
   ]
  },
  {
   "cell_type": "code",
   "execution_count": null,
   "metadata": {},
   "outputs": [],
   "source": [
    "def save_answers1(c_salt, c_sugar, c_water, c_mushrooms, c_chicken, c_eggs):\n",
    "    with open(\"cooking_LDA_pa_task1.txt\", \"w\") as fout:\n",
    "        fout.write(\" \".join([str(el) for el in [c_salt, c_sugar, c_water, c_mushrooms, c_chicken, c_eggs]]))"
   ]
  },
  {
   "cell_type": "markdown",
   "metadata": {},
   "source": [
    "### Фильтрация словаря\n",
    "В топах тем гораздо чаще встречаются первые три рассмотренных ингредиента, чем последние три. При этом наличие в рецепте курицы, яиц и грибов яснее дает понять, что мы будем готовить, чем наличие соли, сахара и воды. Таким образом, даже в рецептах есть слова, часто встречающиеся в текстах и не несущие смысловой нагрузки, и поэтому их не желательно видеть в темах. Наиболее простой прием борьбы с такими фоновыми элементами — фильтрация словаря по частоте. Обычно словарь фильтруют с двух сторон: убирают очень редкие слова (в целях экономии памяти) и очень частые слова (в целях повышения интерпретируемости тем). Мы уберем только частые слова."
   ]
  },
  {
   "cell_type": "code",
   "execution_count": null,
   "metadata": {},
   "outputs": [],
   "source": [
    "import copy\n",
    "dictionary2 = copy.deepcopy(dictionary)"
   ]
  },
  {
   "cell_type": "markdown",
   "metadata": {},
   "source": [
    "__Задание 2.__ У объекта dictionary2 есть переменная *dfs* — это словарь, ключами которого являются id токена, а элементами — число раз, сколько слово встретилось во всей коллекции. Сохраните в отдельный список ингредиенты, которые встретились в коллекции больше 4000 раз. Вызовите метод словаря *filter_tokens*, подав в качестве первого аргумента полученный список популярных ингредиентов. Вычислите две величины: dict_size_before и dict_size_after — размер словаря до и после фильтрации.\n",
    "\n",
    "Затем, используя новый словарь, создайте новый корпус документов, corpus2, по аналогии с тем, как это сделано в начале ноутбука. Вычислите две величины: corpus_size_before и corpus_size_after — суммарное количество ингредиентов в корпусе (для каждого документа вычислите число различных ингредиентов в нем и просуммируйте по всем документам) до и после фильтрации.\n",
    "\n",
    "Передайте величины dict_size_before, dict_size_after, corpus_size_before, corpus_size_after в функцию save_answers2 и загрузите сгенерированный файл в форму."
   ]
  },
  {
   "cell_type": "code",
   "execution_count": null,
   "metadata": {},
   "outputs": [],
   "source": []
  },
  {
   "cell_type": "code",
   "execution_count": null,
   "metadata": {},
   "outputs": [],
   "source": []
  },
  {
   "cell_type": "code",
   "execution_count": null,
   "metadata": {},
   "outputs": [],
   "source": []
  },
  {
   "cell_type": "code",
   "execution_count": null,
   "metadata": {},
   "outputs": [],
   "source": [
    "def save_answers2(dict_size_before, dict_size_after, corpus_size_before, corpus_size_after):\n",
    "    with open(\"cooking_LDA_pa_task2.txt\", \"w\") as fout:\n",
    "        fout.write(\" \".join([str(el) for el in [dict_size_before, dict_size_after, corpus_size_before, corpus_size_after]]))"
   ]
  },
  {
   "cell_type": "markdown",
   "metadata": {},
   "source": [
    "### Сравнение когерентностей\n",
    "__Задание 3.__ Постройте еще одну модель по корпусу corpus2 и словарю dictionary2, остальные параметры оставьте такими же, как при первом построении модели. Сохраните новую модель в другую переменную (не перезаписывайте предыдущую модель). Не забудьте про фиксирование seed!\n",
    "\n",
    "Затем воспользуйтесь методом *top_topics* модели, чтобы вычислить ее когерентность. Передайте в качестве аргумента соответствующий модели корпус. Метод вернет список кортежей (топ токенов, когерентность), отсортированных по убыванию последней. Вычислите среднюю по всем темам когерентность для каждой из двух моделей и передайте в функцию save_answers3. "
   ]
  },
  {
   "cell_type": "code",
   "execution_count": null,
   "metadata": {},
   "outputs": [],
   "source": []
  },
  {
   "cell_type": "code",
   "execution_count": null,
   "metadata": {},
   "outputs": [],
   "source": []
  },
  {
   "cell_type": "code",
   "execution_count": null,
   "metadata": {},
   "outputs": [],
   "source": []
  },
  {
   "cell_type": "code",
   "execution_count": null,
   "metadata": {},
   "outputs": [],
   "source": [
    "def save_answers3(coherence, coherence2):\n",
    "    with open(\"cooking_LDA_pa_task3.txt\", \"w\") as fout:\n",
    "        fout.write(\" \".join([\"%3f\"%el for el in [coherence, coherence2]]))"
   ]
  },
  {
   "cell_type": "markdown",
   "metadata": {},
   "source": [
    "Считается, что когерентность хорошо соотносится с человеческими оценками интерпретируемости тем. Поэтому на больших текстовых коллекциях когерентность обычно повышается, если убрать фоновую лексику. Однако в нашем случае этого не произошло. "
   ]
  },
  {
   "cell_type": "markdown",
   "metadata": {},
   "source": [
    "### Изучение влияния гиперпараметра alpha"
   ]
  },
  {
   "cell_type": "markdown",
   "metadata": {},
   "source": [
    "В этом разделе мы будем работать со второй моделью, то есть той, которая построена по сокращенному корпусу. \n",
    "\n",
    "Пока что мы посмотрели только на матрицу темы-слова, теперь давайте посмотрим на матрицу темы-документы. Выведите темы для нулевого (или любого другого) документа из корпуса, воспользовавшись методом *get_document_topics* второй модели:"
   ]
  },
  {
   "cell_type": "code",
   "execution_count": null,
   "metadata": {},
   "outputs": [],
   "source": []
  },
  {
   "cell_type": "markdown",
   "metadata": {},
   "source": [
    "Также выведите содержимое переменной *.alpha* второй модели:"
   ]
  },
  {
   "cell_type": "code",
   "execution_count": null,
   "metadata": {},
   "outputs": [],
   "source": []
  },
  {
   "cell_type": "markdown",
   "metadata": {},
   "source": [
    "У вас должно получиться, что документ характеризуется небольшим числом тем. Попробуем поменять гиперпараметр alpha, задающий априорное распределение Дирихле для распределений тем в документах."
   ]
  },
  {
   "cell_type": "markdown",
   "metadata": {},
   "source": [
    "__Задание 4.__ Обучите третью модель: используйте сокращенный корпус (corpus2 и dictionary2) и установите параметр __alpha=1__, passes=5. Не забудьте про фиксацию seed! Выведите темы новой модели для нулевого документа; должно получиться, что распределение над множеством тем практически равномерное. Чтобы убедиться в том, что во второй модели документы описываются гораздо более разреженными распределениями, чем в третьей, посчитайте суммарное количество элементов, __превосходящих 0.01__, в матрицах темы-документы обеих моделей. Другими словами, запросите темы  модели для каждого документа с параметром *minimum_probability=0.01* и просуммируйте число элементов в получаемых массивах. Передайте две суммы (сначала для модели с alpha по умолчанию, затем для модели в alpha=1) в функцию save_answers4."
   ]
  },
  {
   "cell_type": "code",
   "execution_count": null,
   "metadata": {},
   "outputs": [],
   "source": []
  },
  {
   "cell_type": "code",
   "execution_count": null,
   "metadata": {},
   "outputs": [],
   "source": []
  },
  {
   "cell_type": "code",
   "execution_count": null,
   "metadata": {},
   "outputs": [],
   "source": []
  },
  {
   "cell_type": "code",
   "execution_count": null,
   "metadata": {},
   "outputs": [],
   "source": [
    "def save_answers4(count_model2, count_model3):\n",
    "    with open(\"cooking_LDA_pa_task4.txt\", \"w\") as fout:\n",
    "        fout.write(\" \".join([str(el) for el in [count_model2, count_model3]]))"
   ]
  },
  {
   "cell_type": "markdown",
   "metadata": {},
   "source": [
    "Таким образом, гиперпараметр __alpha__ влияет на разреженность распределений тем в документах. Аналогично гиперпараметр __eta__ влияет на разреженность распределений слов в темах."
   ]
  },
  {
   "cell_type": "markdown",
   "metadata": {},
   "source": [
    "### LDA как способ понижения размерности\n",
    "Иногда, распределения над темами, найденные с помощью LDA, добавляют в матрицу объекты-признаки как дополнительные, семантические, признаки, и это может улучшить качество решения задачи. Для простоты давайте просто обучим классификатор рецептов на кухни на признаках, полученных из LDA, и измерим точность (accuracy).\n",
    "\n",
    "__Задание 5.__ Используйте модель, построенную по сокращенной выборке с alpha по умолчанию (вторую модель). Составьте матрицу $\\Theta = p(t|d)$ вероятностей тем в документах; вы можете использовать тот же метод get_document_topics, а также вектор правильных ответов y (в том же порядке, в котором рецепты идут в переменной recipes). Создайте объект RandomForestClassifier со 100 деревьями, с помощью функции cross_val_score вычислите среднюю accuracy по трем фолдам (перемешивать данные не нужно) и передайте в функцию save_answers5."
   ]
  },
  {
   "cell_type": "code",
   "execution_count": null,
   "metadata": {},
   "outputs": [],
   "source": [
    "from sklearn.ensemble import RandomForestClassifier\n",
    "from sklearn.model_selection import cross_val_score"
   ]
  },
  {
   "cell_type": "code",
   "execution_count": null,
   "metadata": {},
   "outputs": [],
   "source": []
  },
  {
   "cell_type": "code",
   "execution_count": null,
   "metadata": {},
   "outputs": [],
   "source": []
  },
  {
   "cell_type": "code",
   "execution_count": null,
   "metadata": {},
   "outputs": [],
   "source": []
  },
  {
   "cell_type": "code",
   "execution_count": null,
   "metadata": {},
   "outputs": [],
   "source": [
    "def save_answers5(accuracy):\n",
    "     with open(\"cooking_LDA_pa_task5.txt\", \"w\") as fout:\n",
    "        fout.write(str(accuracy))"
   ]
  },
  {
   "cell_type": "markdown",
   "metadata": {},
   "source": [
    "Для такого большого количества классов это неплохая точность. Вы можете попроовать обучать RandomForest на исходной матрице частот слов, имеющей значительно большую размерность, и увидеть, что accuracy увеличивается на 10–15%. Таким образом, LDA собрал не всю, но достаточно большую часть информации из выборки, в матрице низкого ранга."
   ]
  },
  {
   "cell_type": "markdown",
   "metadata": {},
   "source": [
    "### LDA — вероятностная модель\n",
    "Матричное разложение, использующееся в LDA, интерпретируется как следующий процесс генерации документов.\n",
    "\n",
    "Для документа $d$ длины $n_d$:\n",
    "1. Из априорного распределения Дирихле с параметром alpha сгенерировать распределение над множеством тем: $\\theta_d \\sim Dirichlet(\\alpha)$\n",
    "1. Для каждого слова $w = 1, \\dots, n_d$:\n",
    "    1. Сгенерировать тему из дискретного распределения $t \\sim \\theta_{d}$\n",
    "    1. Сгенерировать слово из дискретного распределения $w \\sim \\phi_{t}$.\n",
    "    \n",
    "Подробнее об этом в [Википедии](https://en.wikipedia.org/wiki/Latent_Dirichlet_allocation).\n",
    "\n",
    "В контексте нашей задачи получается, что, используя данный генеративный процесс, можно создавать новые рецепты. Вы можете передать в функцию модель и число ингредиентов и сгенерировать рецепт :)"
   ]
  },
  {
   "cell_type": "code",
   "execution_count": null,
   "metadata": {},
   "outputs": [],
   "source": [
    "def generate_recipe(model, num_ingredients):\n",
    "    theta = np.random.dirichlet(model.alpha)\n",
    "    for i in range(num_ingredients):\n",
    "        t = np.random.choice(np.arange(model.num_topics), p=theta)\n",
    "        topic = model.show_topic(t, topn=model.num_terms)\n",
    "        topic_distr = [x[1] for x in topic]\n",
    "        terms = [x[0] for x in topic]\n",
    "        w = np.random.choice(terms, p=topic_distr)\n",
    "        print w"
   ]
  },
  {
   "cell_type": "code",
   "execution_count": null,
   "metadata": {},
   "outputs": [],
   "source": []
  },
  {
   "cell_type": "markdown",
   "metadata": {},
   "source": [
    "### Интерпретация построенной модели\n",
    "Вы можете рассмотреть топы ингредиентов каждой темы. Большиснтво тем сами по себе похожи на рецепты; в некоторых собираются продукты одного вида, например, свежие фрукты или разные виды сыра.\n",
    "\n",
    "Попробуем эмпирически соотнести наши темы с национальными кухнями (cuisine). Построим матрицу $A$ размера темы $x$ кухни, ее элементы $a_{tc}$ — суммы $p(t|d)$ по всем документам $d$, которые отнесены к кухне $c$. Нормируем матрицу на частоты рецептов по разным кухням, чтобы избежать дисбаланса между кухнями. Следующая функция получает на вход объект модели, объект корпуса и исходные данные и возвращает нормированную матрицу $A$. Ее удобно визуализировать с помощью seaborn."
   ]
  },
  {
   "cell_type": "code",
   "execution_count": null,
   "metadata": {},
   "outputs": [],
   "source": [
    "import pandas\n",
    "import seaborn\n",
    "from matplotlib import pyplot as plt\n",
    "%matplotlib inline"
   ]
  },
  {
   "cell_type": "code",
   "execution_count": null,
   "metadata": {},
   "outputs": [],
   "source": [
    "def compute_topic_cuisine_matrix(model, corpus, recipes):\n",
    "    # составляем вектор целевых признаков\n",
    "    targets = list(set([recipe[\"cuisine\"] for recipe in recipes]))\n",
    "    # составляем матрицу\n",
    "    tc_matrix = pandas.DataFrame(data=np.zeros((model.num_topics, len(targets))), columns=targets)\n",
    "    for recipe, bow in zip(recipes, corpus):\n",
    "        recipe_topic = model.get_document_topics(bow)\n",
    "        for t, prob in recipe_topic:\n",
    "            tc_matrix[recipe[\"cuisine\"]][t] += prob\n",
    "    # нормируем матрицу\n",
    "    target_sums = pandas.DataFrame(data=np.zeros((1, len(targets))), columns=targets)\n",
    "    for recipe in recipes:\n",
    "        target_sums[recipe[\"cuisine\"]] += 1\n",
    "    return pandas.DataFrame(tc_matrix.values/target_sums.values, columns=tc_matrix.columns)"
   ]
  },
  {
   "cell_type": "code",
   "execution_count": null,
   "metadata": {},
   "outputs": [],
   "source": [
    "def plot_matrix(tc_matrix):\n",
    "    plt.figure(figsize=(10, 10))\n",
    "    seaborn.heatmap(tc_matrix, square=True)"
   ]
  },
  {
   "cell_type": "code",
   "execution_count": null,
   "metadata": {},
   "outputs": [],
   "source": [
    "# Визуализируйте матрицу\n"
   ]
  },
  {
   "cell_type": "markdown",
   "metadata": {},
   "source": [
    "Чем темнее квадрат в матрице, тем больше связь этой темы с данной кухней. Мы видим, что у нас есть темы, которые связаны с несколькими кухнями. Такие темы показывают набор ингредиентов, которые популярны в кухнях нескольких народов, то есть указывают на схожесть кухонь этих народов. Некоторые темы распределены по всем кухням равномерно, они показывают наборы продуктов, которые часто используются в кулинарии всех стран. "
   ]
  },
  {
   "cell_type": "markdown",
   "metadata": {},
   "source": [
    "Жаль, что в датасете нет названий рецептов, иначе темы было бы проще интерпретировать..."
   ]
  },
  {
   "cell_type": "markdown",
   "metadata": {},
   "source": [
    "### Заключение\n",
    "В этом задании вы построили несколько моделей LDA, посмотрели, на что влияют гиперпараметры модели и как можно использовать построенную модель. "
   ]
  }
 ],
 "metadata": {
  "kernelspec": {
   "display_name": "Python 3",
   "language": "python",
   "name": "python3"
  },
  "language_info": {
   "codemirror_mode": {
    "name": "ipython",
    "version": 3
   },
   "file_extension": ".py",
   "mimetype": "text/x-python",
   "name": "python",
   "nbconvert_exporter": "python",
   "pygments_lexer": "ipython3",
   "version": "3.7.6"
  }
 },
 "nbformat": 4,
 "nbformat_minor": 1
}
